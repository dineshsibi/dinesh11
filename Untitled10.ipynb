{
 "cells": [
  {
   "cell_type": "code",
   "execution_count": 1,
   "id": "ef25fdce-df4e-41e8-9161-f56ddf693449",
   "metadata": {},
   "outputs": [],
   "source": [
    "import requests"
   ]
  },
  {
   "cell_type": "code",
   "execution_count": 3,
   "id": "3d725309-6c2d-43a4-810e-2c3ac772527d",
   "metadata": {},
   "outputs": [],
   "source": [
    "from bs4 import BeautifulSoup"
   ]
  },
  {
   "cell_type": "code",
   "execution_count": 31,
   "id": "3da5832e-bd17-4e6e-b5f6-d366230624d4",
   "metadata": {},
   "outputs": [],
   "source": [
    "url='https://www.worldometers.info/gdp/gdp-per-capita/'"
   ]
  },
  {
   "cell_type": "code",
   "execution_count": 33,
   "id": "efedb277-d343-46ba-a280-5eeb109d9f49",
   "metadata": {},
   "outputs": [],
   "source": [
    "gdp=requests.get(url)"
   ]
  },
  {
   "cell_type": "code",
   "execution_count": 34,
   "id": "e0ec51b2-36af-486e-82d9-909833bac291",
   "metadata": {},
   "outputs": [],
   "source": [
    "soup=BeautifulSoup(gdp.text,'html')"
   ]
  },
  {
   "cell_type": "code",
   "execution_count": 39,
   "id": "8f20a3ad-9608-4e55-baf4-a9949ccb5b9a",
   "metadata": {},
   "outputs": [],
   "source": [
    "table=soup.find('table')"
   ]
  },
  {
   "cell_type": "code",
   "execution_count": 43,
   "id": "8d79e954-d152-4638-9261-ba82b589fd27",
   "metadata": {},
   "outputs": [],
   "source": [
    "heading=table.find_all('th')"
   ]
  },
  {
   "cell_type": "code",
   "execution_count": 47,
   "id": "3901fef9-7843-4776-935c-316b79dd308c",
   "metadata": {},
   "outputs": [],
   "source": [
    "heading_text=[title.text for title in heading]"
   ]
  },
  {
   "cell_type": "code",
   "execution_count": 71,
   "id": "cfa2b146-15a8-4c79-9f9b-b3d31324ec28",
   "metadata": {},
   "outputs": [
    {
     "data": {
      "text/plain": [
       "['#',\n",
       " 'Country',\n",
       " 'GDP (PPP)  per capita  (2022)',\n",
       " 'GDP (nominal) per capita (2022) ',\n",
       " 'vs. World PPP  GDP per capita ($20,645)']"
      ]
     },
     "execution_count": 71,
     "metadata": {},
     "output_type": "execute_result"
    }
   ],
   "source": [
    "heading_text"
   ]
  },
  {
   "cell_type": "code",
   "execution_count": 53,
   "id": "0c7e9cec-fd5c-4b9f-8659-d0d9a806e6b2",
   "metadata": {},
   "outputs": [],
   "source": [
    "import pandas as pd"
   ]
  },
  {
   "cell_type": "code",
   "execution_count": 55,
   "id": "bcc9e836-0d13-4bcd-83d7-6ad1755e8222",
   "metadata": {},
   "outputs": [],
   "source": [
    "df=pd.DataFrame(columns=heading_text)"
   ]
  },
  {
   "cell_type": "code",
   "execution_count": 65,
   "id": "a3e4d5e7-5a58-43a6-a2b8-17dcc404d864",
   "metadata": {},
   "outputs": [],
   "source": [
    "table_tr=table.find_all('tr')"
   ]
  },
  {
   "cell_type": "code",
   "execution_count": 67,
   "id": "318b770f-3b3e-485a-9ff2-bbd53f76c555",
   "metadata": {},
   "outputs": [],
   "source": [
    "\n",
    "for topIt in table_tr[1:]:\n",
    "  row_content=topIt.find_all('td')\n",
    "  row_data_cont=[data.text.strip() for data in row_content]\n",
    "\n",
    "  length=len(df)\n",
    "  df.loc[length]=row_data_cont"
   ]
  },
  {
   "cell_type": "code",
   "execution_count": 69,
   "id": "93d189aa-636b-4e33-922b-e32b0170d029",
   "metadata": {},
   "outputs": [
    {
     "data": {
      "text/html": [
       "<div>\n",
       "<style scoped>\n",
       "    .dataframe tbody tr th:only-of-type {\n",
       "        vertical-align: middle;\n",
       "    }\n",
       "\n",
       "    .dataframe tbody tr th {\n",
       "        vertical-align: top;\n",
       "    }\n",
       "\n",
       "    .dataframe thead th {\n",
       "        text-align: right;\n",
       "    }\n",
       "</style>\n",
       "<table border=\"1\" class=\"dataframe\">\n",
       "  <thead>\n",
       "    <tr style=\"text-align: right;\">\n",
       "      <th></th>\n",
       "      <th>#</th>\n",
       "      <th>Country</th>\n",
       "      <th>GDP (PPP)  per capita  (2022)</th>\n",
       "      <th>GDP (nominal) per capita (2022)</th>\n",
       "      <th>vs. World PPP  GDP per capita ($20,645)</th>\n",
       "    </tr>\n",
       "  </thead>\n",
       "  <tbody>\n",
       "    <tr>\n",
       "      <th>0</th>\n",
       "      <td>1</td>\n",
       "      <td>Luxembourg</td>\n",
       "      <td>$142,214</td>\n",
       "      <td>$125,935</td>\n",
       "      <td>689%</td>\n",
       "    </tr>\n",
       "    <tr>\n",
       "      <th>1</th>\n",
       "      <td>2</td>\n",
       "      <td>Singapore</td>\n",
       "      <td>$127,565</td>\n",
       "      <td>$82,619</td>\n",
       "      <td>618%</td>\n",
       "    </tr>\n",
       "    <tr>\n",
       "      <th>2</th>\n",
       "      <td>3</td>\n",
       "      <td>Ireland</td>\n",
       "      <td>$126,905</td>\n",
       "      <td>$103,570</td>\n",
       "      <td>615%</td>\n",
       "    </tr>\n",
       "    <tr>\n",
       "      <th>3</th>\n",
       "      <td>4</td>\n",
       "      <td>Norway</td>\n",
       "      <td>$114,899</td>\n",
       "      <td>$106,155</td>\n",
       "      <td>557%</td>\n",
       "    </tr>\n",
       "    <tr>\n",
       "      <th>4</th>\n",
       "      <td>5</td>\n",
       "      <td>Qatar</td>\n",
       "      <td>$114,648</td>\n",
       "      <td>$82,040</td>\n",
       "      <td>555%</td>\n",
       "    </tr>\n",
       "    <tr>\n",
       "      <th>...</th>\n",
       "      <td>...</td>\n",
       "      <td>...</td>\n",
       "      <td>...</td>\n",
       "      <td>...</td>\n",
       "      <td>...</td>\n",
       "    </tr>\n",
       "    <tr>\n",
       "      <th>375</th>\n",
       "      <td>179</td>\n",
       "      <td>Bhutan</td>\n",
       "      <td>N.A.</td>\n",
       "      <td>$0</td>\n",
       "      <td>N.A.</td>\n",
       "    </tr>\n",
       "    <tr>\n",
       "      <th>376</th>\n",
       "      <td>179</td>\n",
       "      <td>Palau</td>\n",
       "      <td>N.A.</td>\n",
       "      <td>$0</td>\n",
       "      <td>N.A.</td>\n",
       "    </tr>\n",
       "    <tr>\n",
       "      <th>377</th>\n",
       "      <td>179</td>\n",
       "      <td>Aruba</td>\n",
       "      <td>N.A.</td>\n",
       "      <td>$0</td>\n",
       "      <td>N.A.</td>\n",
       "    </tr>\n",
       "    <tr>\n",
       "      <th>378</th>\n",
       "      <td>179</td>\n",
       "      <td>Cuba</td>\n",
       "      <td>N.A.</td>\n",
       "      <td>$0</td>\n",
       "      <td>N.A.</td>\n",
       "    </tr>\n",
       "    <tr>\n",
       "      <th>379</th>\n",
       "      <td>179</td>\n",
       "      <td>Afghanistan</td>\n",
       "      <td>N.A.</td>\n",
       "      <td>$0</td>\n",
       "      <td>N.A.</td>\n",
       "    </tr>\n",
       "  </tbody>\n",
       "</table>\n",
       "<p>380 rows × 5 columns</p>\n",
       "</div>"
      ],
      "text/plain": [
       "       #      Country GDP (PPP)  per capita  (2022)  \\\n",
       "0      1   Luxembourg                      $142,214   \n",
       "1      2    Singapore                      $127,565   \n",
       "2      3      Ireland                      $126,905   \n",
       "3      4       Norway                      $114,899   \n",
       "4      5        Qatar                      $114,648   \n",
       "..   ...          ...                           ...   \n",
       "375  179       Bhutan                          N.A.   \n",
       "376  179        Palau                          N.A.   \n",
       "377  179        Aruba                          N.A.   \n",
       "378  179         Cuba                          N.A.   \n",
       "379  179  Afghanistan                          N.A.   \n",
       "\n",
       "    GDP (nominal) per capita (2022)  vs. World PPP  GDP per capita ($20,645)  \n",
       "0                           $125,935                                    689%  \n",
       "1                            $82,619                                    618%  \n",
       "2                           $103,570                                    615%  \n",
       "3                           $106,155                                    557%  \n",
       "4                            $82,040                                    555%  \n",
       "..                               ...                                     ...  \n",
       "375                               $0                                    N.A.  \n",
       "376                               $0                                    N.A.  \n",
       "377                               $0                                    N.A.  \n",
       "378                               $0                                    N.A.  \n",
       "379                               $0                                    N.A.  \n",
       "\n",
       "[380 rows x 5 columns]"
      ]
     },
     "execution_count": 69,
     "metadata": {},
     "output_type": "execute_result"
    }
   ],
   "source": [
    "df"
   ]
  },
  {
   "cell_type": "code",
   "execution_count": null,
   "id": "fb1a65a8-0290-4acc-a9a9-c3767185984a",
   "metadata": {},
   "outputs": [],
   "source": []
  }
 ],
 "metadata": {
  "kernelspec": {
   "display_name": "Python 3 (ipykernel)",
   "language": "python",
   "name": "python3"
  },
  "language_info": {
   "codemirror_mode": {
    "name": "ipython",
    "version": 3
   },
   "file_extension": ".py",
   "mimetype": "text/x-python",
   "name": "python",
   "nbconvert_exporter": "python",
   "pygments_lexer": "ipython3",
   "version": "3.12.4"
  }
 },
 "nbformat": 4,
 "nbformat_minor": 5
}
